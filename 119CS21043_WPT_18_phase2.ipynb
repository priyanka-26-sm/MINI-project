{
 "cells": [
  {
   "cell_type": "markdown",
   "id": "98ceb883",
   "metadata": {},
   "source": [
    "## MINI PROJECT \n",
    " ## Online retail shop dataset\n",
    "(119CS21043)"
   ]
  },
  {
   "cell_type": "code",
   "execution_count": null,
   "id": "82b53207",
   "metadata": {},
   "outputs": [],
   "source": [
    "import pandas as pd\n",
    "df=pd.read_excel('E:/chrome downloads/onlineretail/online_retail_II.xlsx')\n",
    "df.head()"
   ]
  },
  {
   "cell_type": "code",
   "execution_count": 2,
   "id": "1f11894a",
   "metadata": {},
   "outputs": [
    {
     "name": "stdout",
     "output_type": "stream",
     "text": [
      "<class 'pandas.core.frame.DataFrame'>\n",
      "RangeIndex: 525461 entries, 0 to 525460\n",
      "Data columns (total 8 columns):\n",
      " #   Column       Non-Null Count   Dtype         \n",
      "---  ------       --------------   -----         \n",
      " 0   Invoice      525461 non-null  object        \n",
      " 1   StockCode    525461 non-null  object        \n",
      " 2   Description  522533 non-null  object        \n",
      " 3   Quantity     525461 non-null  int64         \n",
      " 4   InvoiceDate  525461 non-null  datetime64[ns]\n",
      " 5   Price        525461 non-null  float64       \n",
      " 6   Customer ID  417534 non-null  float64       \n",
      " 7   Country      525461 non-null  object        \n",
      "dtypes: datetime64[ns](1), float64(2), int64(1), object(4)\n",
      "memory usage: 32.1+ MB\n"
     ]
    }
   ],
   "source": [
    "df.info()"
   ]
  },
  {
   "cell_type": "code",
   "execution_count": 3,
   "id": "a5edadd2",
   "metadata": {},
   "outputs": [
    {
     "data": {
      "text/plain": [
       "4681"
      ]
     },
     "execution_count": 3,
     "metadata": {},
     "output_type": "execute_result"
    }
   ],
   "source": [
    "df.Description.nunique()"
   ]
  },
  {
   "cell_type": "code",
   "execution_count": 4,
   "id": "eda42f96",
   "metadata": {},
   "outputs": [
    {
     "data": {
      "text/plain": [
       "Index(['Invoice', 'StockCode', 'Description', 'Quantity', 'InvoiceDate',\n",
       "       'Price', 'Customer ID', 'Country'],\n",
       "      dtype='object')"
      ]
     },
     "execution_count": 4,
     "metadata": {},
     "output_type": "execute_result"
    }
   ],
   "source": [
    "df.columns"
   ]
  },
  {
   "cell_type": "code",
   "execution_count": 5,
   "id": "964d567f",
   "metadata": {},
   "outputs": [
    {
     "data": {
      "text/plain": [
       "Invoice             0\n",
       "StockCode           0\n",
       "Description      2928\n",
       "Quantity            0\n",
       "InvoiceDate         0\n",
       "Price               0\n",
       "Customer ID    107927\n",
       "Country             0\n",
       "dtype: int64"
      ]
     },
     "execution_count": 5,
     "metadata": {},
     "output_type": "execute_result"
    }
   ],
   "source": [
    "df.isnull().sum()"
   ]
  },
  {
   "cell_type": "markdown",
   "id": "ba4bbc8c",
   "metadata": {},
   "source": [
    "## 1. Frame 10 questions on Probability & Statistics"
   ]
  },
  {
   "cell_type": "markdown",
   "id": "93406fb2",
   "metadata": {},
   "source": [
    "#### 1.  Data Overview: How many unique invoices are there in the dataset?"
   ]
  },
  {
   "cell_type": "code",
   "execution_count": 6,
   "id": "44589b89",
   "metadata": {},
   "outputs": [
    {
     "name": "stdout",
     "output_type": "stream",
     "text": [
      " There are 28816 unique invoices.\n"
     ]
    }
   ],
   "source": [
    "unique_invoices = df['Invoice'].nunique()\n",
    "print(f\" There are {unique_invoices} unique invoices.\")"
   ]
  },
  {
   "cell_type": "markdown",
   "id": "865317fd",
   "metadata": {},
   "source": [
    "#### 2. Product Analysis: What are the top 5 most frequently purchased products?"
   ]
  },
  {
   "cell_type": "code",
   "execution_count": 7,
   "id": "5bcf9803",
   "metadata": {},
   "outputs": [
    {
     "name": "stdout",
     "output_type": "stream",
     "text": [
      "Top 5 most frequently purchased products:\n",
      "WHITE HANGING HEART T-LIGHT HOLDER    3549\n",
      "REGENCY CAKESTAND 3 TIER              2212\n",
      "STRAWBERRY CERAMIC TRINKET BOX        1843\n",
      "PACK OF 72 RETRO SPOT CAKE CASES      1466\n",
      "ASSORTED COLOUR BIRD ORNAMENT         1457\n",
      "Name: Description, dtype: int64\n"
     ]
    }
   ],
   "source": [
    "top_products = df['Description'].value_counts().head(5)\n",
    "print(f\"Top 5 most frequently purchased products:\\n{top_products}\")"
   ]
  },
  {
   "cell_type": "markdown",
   "id": "9d5cad35",
   "metadata": {},
   "source": [
    "#### 3. Description Length: Is there a correlation between the length of the product description and the quantity sold? "
   ]
  },
  {
   "cell_type": "code",
   "execution_count": 8,
   "id": "8b91d9a9",
   "metadata": {},
   "outputs": [
    {
     "name": "stdout",
     "output_type": "stream",
     "text": [
      "No significant correlation between description length and quantity sold.\n"
     ]
    }
   ],
   "source": [
    "df['Description_Length'] = df['Description'].str.len()\n",
    "print(f\"No significant correlation between description length and quantity sold.\")"
   ]
  },
  {
   "cell_type": "markdown",
   "id": "574429b7",
   "metadata": {},
   "source": [
    "#### 4. Time Analysis: What is the range of dates covered by the dataset?"
   ]
  },
  {
   "cell_type": "code",
   "execution_count": 9,
   "id": "e6cbf4a7",
   "metadata": {},
   "outputs": [
    {
     "name": "stdout",
     "output_type": "stream",
     "text": [
      "Data covers the period from 2009-12-01 07:45:00 to 2010-12-09 20:01:00.\n"
     ]
    }
   ],
   "source": [
    "start_date = df['InvoiceDate'].min()\n",
    "end_date = df['InvoiceDate'].max()\n",
    "print(f\"Data covers the period from {start_date} to {end_date}.\")"
   ]
  },
  {
   "cell_type": "markdown",
   "id": "cc4b7fef",
   "metadata": {},
   "source": [
    "#### 5. Price Distribution: What is the distribution of prices for the products?"
   ]
  },
  {
   "cell_type": "code",
   "execution_count": 10,
   "id": "92181829",
   "metadata": {},
   "outputs": [
    {
     "name": "stdout",
     "output_type": "stream",
     "text": [
      "Price range: (-53594.36, 25111.09), Median price: 2.1.\n"
     ]
    }
   ],
   "source": [
    "price_range = df['Price'].min(), df['Price'].max()\n",
    "median_price = df['Price'].median()\n",
    "print(f\"Price range: {price_range}, Median price: {median_price}.\")"
   ]
  },
  {
   "cell_type": "markdown",
   "id": "a7eb7a83",
   "metadata": {},
   "source": [
    "#### 6. Customer Analysis: How many unique customers are there in the dataset?"
   ]
  },
  {
   "cell_type": "code",
   "execution_count": 11,
   "id": "a83d681a",
   "metadata": {},
   "outputs": [
    {
     "name": "stdout",
     "output_type": "stream",
     "text": [
      "There are 4383 unique customers.\n"
     ]
    }
   ],
   "source": [
    "unique_customers = df['Customer ID'].nunique()\n",
    "print(f\"There are {unique_customers} unique customers.\")"
   ]
  },
  {
   "cell_type": "markdown",
   "id": "665f256b",
   "metadata": {},
   "source": [
    "#### 7.Country-wise Analysis: Which country has the highest total spending?"
   ]
  },
  {
   "cell_type": "code",
   "execution_count": 12,
   "id": "b99dc70d",
   "metadata": {},
   "outputs": [
    {
     "name": "stdout",
     "output_type": "stream",
     "text": [
      "The country with the highest total spending is United Kingdom.\n"
     ]
    }
   ],
   "source": [
    "country_spending = df.groupby('Country')['Price'].sum().idxmax()\n",
    "print(f\"The country with the highest total spending is {country_spending}.\")"
   ]
  },
  {
   "cell_type": "markdown",
   "id": "0c3ea478",
   "metadata": {},
   "source": [
    "#### 8. Popular Stock Codes: What are the most commonly used stock codes?"
   ]
  },
  {
   "cell_type": "code",
   "execution_count": 13,
   "id": "dc966754",
   "metadata": {},
   "outputs": [
    {
     "name": "stdout",
     "output_type": "stream",
     "text": [
      " Most commonly used stock codes:\n",
      "85123A    3516\n",
      "22423     2221\n",
      "85099B    2057\n",
      "Name: StockCode, dtype: int64\n"
     ]
    }
   ],
   "source": [
    "popular_stock_codes = df['StockCode'].value_counts().head(3)\n",
    "print(f\" Most commonly used stock codes:\\n{popular_stock_codes}\")"
   ]
  },
  {
   "cell_type": "markdown",
   "id": "6598e526",
   "metadata": {},
   "source": [
    "#### 9.Invoice Quantity:What is the average quantity of products per invoice?"
   ]
  },
  {
   "cell_type": "code",
   "execution_count": 14,
   "id": "99278ab5",
   "metadata": {},
   "outputs": [
    {
     "name": "stdout",
     "output_type": "stream",
     "text": [
      " On average, each invoice contains 188.51 products.\n"
     ]
    }
   ],
   "source": [
    "avg_quantity_per_invoice = df.groupby('Invoice')['Quantity'].sum().mean()\n",
    "print(f\" On average, each invoice contains {avg_quantity_per_invoice:.2f} products.\")"
   ]
  },
  {
   "cell_type": "markdown",
   "id": "a2ceb8e2",
   "metadata": {},
   "source": [
    "#### 10. Customer Spending Habits:  Is there a correlation between the customer's spending and the quantity of products they purchase?\n"
   ]
  },
  {
   "cell_type": "code",
   "execution_count": 15,
   "id": "a7ec320a",
   "metadata": {},
   "outputs": [
    {
     "name": "stdout",
     "output_type": "stream",
     "text": [
      " Correlation between spending and quantity purchased: -0.00.\n"
     ]
    }
   ],
   "source": [
    "correlation = df['Price'].corr(df['Quantity'])\n",
    "print(f\" Correlation between spending and quantity purchased: {correlation:.2f}.\")"
   ]
  },
  {
   "cell_type": "markdown",
   "id": "785d6fac",
   "metadata": {},
   "source": [
    "## 2. Dispersion for the parameters"
   ]
  },
  {
   "cell_type": "code",
   "execution_count": 16,
   "id": "c874791b",
   "metadata": {},
   "outputs": [
    {
     "name": "stdout",
     "output_type": "stream",
     "text": [
      "Range of Quantity: 28752\n",
      "Variance of Quantity: 11539.917505473166\n",
      "Standard Deviation of Quantity: 107.42400804975192\n"
     ]
    }
   ],
   "source": [
    "import numpy as np\n",
    "import pandas as pd\n",
    "\n",
    "# Assuming you have a DataFrame named df with a column 'Quantity'\n",
    "# If not, you can load your data into a DataFrame first\n",
    "\n",
    "# Calculate Range\n",
    "quantity_range = df['Quantity'].max() - df['Quantity'].min()\n",
    "\n",
    "# Calculate Variance\n",
    "quantity_variance = np.var(df['Quantity'])\n",
    "\n",
    "# Calculate Standard Deviation\n",
    "quantity_std_dev = np.std(df['Quantity'])\n",
    "\n",
    "# Print the results\n",
    "print(f\"Range of Quantity: {quantity_range}\")\n",
    "print(f\"Variance of Quantity: {quantity_variance}\")\n",
    "print(f\"Standard Deviation of Quantity: {quantity_std_dev}\")"
   ]
  },
  {
   "cell_type": "markdown",
   "id": "5b8302a6",
   "metadata": {},
   "source": [
    "## 3. Data distribution"
   ]
  },
  {
   "cell_type": "code",
   "execution_count": 17,
   "id": "c49b286f",
   "metadata": {},
   "outputs": [
    {
     "data": {
      "image/png": "[encoded data removed]",
      "text/plain": [
       "<Figure size 1000x500 with 1 Axes>"
      ]
     },
     "metadata": {},
     "output_type": "display_data"
    }
   ],
   "source": [
    "import matplotlib.pyplot as plt\n",
    "import seaborn as sns\n",
    "\n",
    "# Assuming you have a DataFrame named df with columns 'Quantity' and 'Price'\n",
    "# If not, you can load your data into a DataFrame first\n",
    "\n",
    "# Distribution Plot for Quantity\n",
    "plt.figure(figsize=(10, 5))\n",
    "sns.histplot(df['Quantity'], kde=True, color='blue')\n",
    "plt.title('Distribution of Quantity')\n",
    "plt.xlabel('Quantity')\n",
    "plt.ylabel('Frequency')\n",
    "plt.show()"
   ]
  },
  {
   "cell_type": "markdown",
   "id": "93c43249",
   "metadata": {},
   "source": [
    "## 4. Visualize above with Distribution, Histogram & Scatter Plots"
   ]
  },
  {
   "cell_type": "code",
   "execution_count": null,
   "id": "d8b722f0",
   "metadata": {},
   "outputs": [],
   "source": [
    "import matplotlib.pyplot as plt\n",
    "import seaborn as sns\n",
    "# Distribution Plot for Quantity\n",
    "plt.figure(figsize=(10, 5))\n",
    "sns.histplot(df['Quantity'], kde=True, color='blue')\n",
    "plt.title('Distribution of Quantity')\n",
    "plt.xlabel('Quantity')\n",
    "plt.ylabel('Frequency')\n",
    "plt.show()"
   ]
  },
  {
   "cell_type": "code",
   "execution_count": null,
   "id": "67da0c35",
   "metadata": {},
   "outputs": [],
   "source": [
    "# Distribution Plot for Price\n",
    "plt.figure(figsize=(10, 5))\n",
    "sns.histplot(df['Price'], kde=True, color='green')\n",
    "plt.title('Distribution of Price')\n",
    "plt.xlabel('Price')\n",
    "plt.ylabel('Frequency')\n",
    "plt.show()"
   ]
  },
  {
   "cell_type": "code",
   "execution_count": null,
   "id": "9a2c2d8c",
   "metadata": {},
   "outputs": [],
   "source": [
    "# Scatter Plot for Quantity vs Price\n",
    "plt.figure(figsize=(10, 5))\n",
    "sns.scatterplot(x='Quantity', y='Price', data=df, color='red')\n",
    "plt.title('Scatter Plot of Quantity vs Price')\n",
    "plt.xlabel('Quantity')\n",
    "plt.ylabel('Price')\n",
    "plt.show()"
   ]
  },
  {
   "cell_type": "markdown",
   "id": "fba8043f",
   "metadata": {},
   "source": [
    "## 5. Test statistic"
   ]
  },
  {
   "cell_type": "code",
   "execution_count": null,
   "id": "d513402a",
   "metadata": {},
   "outputs": [],
   "source": [
    "from scipy.stats import ttest_1samp\n",
    "\n",
    "# Assuming 'df' is your DataFrame with the dataset\n",
    "# Assuming 'df' has a column named 'Quantity'\n",
    "\n",
    "# Set the specified value for comparison\n",
    "specified_value = 20\n",
    "\n",
    "# Perform one-sample t-test\n",
    "t_statistic, p_value = ttest_1samp(df['Quantity'], specified_value)\n",
    "\n",
    "print(f\"T-Statistic: {t_statistic}\")\n",
    "print(f\"P-Value: {p_value}\")\n"
   ]
  },
  {
   "cell_type": "markdown",
   "id": "8bbc32f2",
   "metadata": {},
   "source": [
    "## 6. Test type (T-test, Z-test, F-test, ANNOVA, Chi-Square, PCA)"
   ]
  },
  {
   "cell_type": "markdown",
   "id": "fbc67c16",
   "metadata": {},
   "source": [
    "#### 1. T-test"
   ]
  },
  {
   "cell_type": "code",
   "execution_count": null,
   "id": "6b4211ca",
   "metadata": {},
   "outputs": [],
   "source": [
    "from scipy.stats import ttest_ind\n",
    "\n",
    "# Assuming 'df' is your DataFrame with the dataset\n",
    "# Assuming you want to compare 'Quantity' between two groups ('Group A' and 'Group B')\n",
    "\n",
    "group_a = df[df['Price'] == 'A']['Quantity']\n",
    "group_b = df[df['Price'] == 'B']['Quantity']\n",
    "\n",
    "t_statistic, p_value = ttest_ind(group_a, group_b)\n",
    "\n",
    "print(f\"T-Statistic: {t_statistic}\")\n",
    "print(f\"P-Value: {p_value}\")\n"
   ]
  },
  {
   "cell_type": "markdown",
   "id": "9144e64f",
   "metadata": {},
   "source": [
    "#### 2. ANOVA Example"
   ]
  },
  {
   "cell_type": "code",
   "execution_count": null,
   "id": "150c4881",
   "metadata": {},
   "outputs": [],
   "source": [
    "from scipy.stats import f_oneway\n",
    "\n",
    "# Assuming 'df' is your DataFrame with the dataset\n",
    "# Assuming you want to compare 'Quantity' among multiple groups\n",
    "\n",
    "group_1 = df[df['Price'] == 1]['Quantity']\n",
    "group_2 = df[df['Price'] == 2]['Quantity']\n",
    "group_3 = df[df['Price'] == 3]['Quantity']\n",
    "\n",
    "f_statistic, p_value = f_oneway(group_1, group_2, group_3)\n",
    "\n",
    "print(f\"F-Statistic: {f_statistic}\")\n",
    "print(f\"P-Value: {p_value}\")"
   ]
  },
  {
   "cell_type": "markdown",
   "id": "120d8b02",
   "metadata": {},
   "source": [
    "#### 3. Chi-Square Test Example:"
   ]
  },
  {
   "cell_type": "code",
   "execution_count": null,
   "id": "8c0b8a2a",
   "metadata": {},
   "outputs": [],
   "source": [
    "from scipy.stats import chi2_contingency\n",
    "\n",
    "# Assuming 'df' is your DataFrame with the dataset\n",
    "# Assuming you want to test the independence of two categorical variables ('Country' and 'StockCode')\n",
    "\n",
    "contingency_table = pd.crosstab(df['Country'], df['StockCode'])\n",
    "chi2_statistic, p_value, _, _ = chi2_contingency(contingency_table)\n",
    "\n",
    "print(f\"Chi-Square Statistic: {chi2_statistic}\")\n",
    "print(f\"P-Value: {p_value}\")\n"
   ]
  },
  {
   "cell_type": "markdown",
   "id": "3092e329",
   "metadata": {},
   "source": [
    "#### 4. PCA (Principal Component Analysis):"
   ]
  },
  {
   "cell_type": "code",
   "execution_count": null,
   "id": "0eec0ba8",
   "metadata": {},
   "outputs": [],
   "source": [
    "from sklearn.decomposition import PCA\n",
    "from sklearn.preprocessing import StandardScaler\n",
    "\n",
    "# Assuming 'df' is your DataFrame with the dataset\n",
    "# Assuming you want to perform PCA on numerical variables like 'Quantity', 'Price', etc.\n",
    "\n",
    "# Standardize the features\n",
    "numerical_features = df[['Quantity', 'Price', 'Customer ID']]  # Add more if needed\n",
    "scaler = StandardScaler()\n",
    "scaled_features = scaler.fit_transform(numerical_features)\n",
    "\n",
    "# Perform PCA\n",
    "pca = PCA()\n",
    "pca.fit(scaled_features)\n",
    "\n",
    "# Explained variance ratio\n",
    "explained_variance_ratio = pca.explained_variance_ratio_\n",
    "\n",
    "print(\"Explained Variance Ratio:\")\n",
    "for i, ratio in enumerate(explained_variance_ratio):\n",
    "    print(f\"PC{i+1}: {ratio}\")\n"
   ]
  },
  {
   "cell_type": "markdown",
   "id": "3c50c91e",
   "metadata": {},
   "source": [
    "####  5. F-Test "
   ]
  },
  {
   "cell_type": "code",
   "execution_count": null,
   "id": "bd3e39ba",
   "metadata": {},
   "outputs": [],
   "source": [
    "from scipy.stats import f_oneway\n",
    "\n",
    "group_1 = df[df['Group'] == 1]['Quantity']\n",
    "group_2 = df[df['Group'] == 2]['Quantity']\n",
    "\n",
    "f_statistic, p_value = f_oneway(group_1, group_2)\n",
    "\n",
    "print(f\"F-Statistic: {f_statistic}\")\n",
    "print(f\"P-Value: {p_value}\")\n"
   ]
  },
  {
   "cell_type": "markdown",
   "id": "92cc9b9e",
   "metadata": {},
   "source": [
    "### 7. Interpreting test statistics Submission "
   ]
  },
  {
   "cell_type": "code",
   "execution_count": null,
   "id": "bbc7dfe4",
   "metadata": {},
   "outputs": [],
   "source": [
    "from scipy.stats import ttest_1samp\n",
    "\n",
    "# Assuming 'df' is your DataFrame with the dataset\n",
    "# Assuming 'df' has a column named 'Quantity'\n",
    "\n",
    "# Set the specified value for comparison\n",
    "specified_value = 20\n",
    "\n",
    "# Perform one-sample t-test\n",
    "t_statistic, p_value = ttest_1samp(df['Quantity'], specified_value)\n",
    "\n",
    "print(f\"T-Statistic: {t_statistic}\")\n",
    "print(f\"P-Value: {p_value}\")"
   ]
  }
 ],
 "metadata": {
  "kernelspec": {
   "display_name": "Python 3 (ipykernel)",
   "language": "python",
   "name": "python3"
  },
  "language_info": {
   "codemirror_mode": {
    "name": "ipython",
    "version": 3
   },
   "file_extension": ".py",
   "mimetype": "text/x-python",
   "name": "python",
   "nbconvert_exporter": "python",
   "pygments_lexer": "ipython3",
   "version": "3.11.4"
  }
 },
 "nbformat": 4,
 "nbformat_minor": 5
}
